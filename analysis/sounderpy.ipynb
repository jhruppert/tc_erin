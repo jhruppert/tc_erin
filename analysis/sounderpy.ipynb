{
 "cells": [
  {
   "cell_type": "code",
   "execution_count": 5,
   "metadata": {},
   "outputs": [],
   "source": [
    "import xarray as xr\n",
    "import numpy as np\n",
    "import matplotlib.pyplot as plt\n",
    "from ecape_parcel.calc import calc_ecape_parcel\n",
    "from ecape_parcel.ecape_calc import calc_ecape\n",
    "import metpy.calc as mpcalc\n",
    "from metpy.calc import dewpoint_from_specific_humidity, parcel_profile, cape_cin\n",
    "from metpy.units import units\n",
    "from metpy.plots import SkewT\n",
    "import matplotlib.pyplot as plt\n",
    "import sounderpy as spy"
   ]
  },
  {
   "cell_type": "code",
   "execution_count": 6,
   "metadata": {},
   "outputs": [
    {
     "name": "stdout",
     "output_type": "stream",
     "text": [
      "> RAP REANALYSIS DATA ACCESS FUNCTION --\n",
      "-----------------------------------------\n",
      "> DATASET USED: RUC_13km\n",
      "> COMPLETE --------\n",
      "> RUNTIME: 00:00:14\n",
      "> SUMMARY: 12Z RUC F00 for [32.83, -97.29] at 08-19-2007-12Z\n",
      " \n",
      "> THERMODYNAMICS --------------------------------------------- \n",
      "--- SBCAPE: 284.6 | MUCAPE: 284.6 | MLCAPE: 195.8 | MUECAPE: 207.2\n",
      "--- MU 0-3: 0.0 | MU 0-6: 170.4 | SB 0-3: 0.0 | SB 0-6: 170.4\n",
      " \n",
      "> KINEMATICS ------------------------------------------------- \n",
      "--- 0-500 SRW: 11.5 knot | 0-500 SWV: 0.012 | 0-500 SHEAR: 22.9 | 0-500 SRH: 22.8\n",
      "--- 1-3km SRW: 17.7 knot | 1-3km SWV: 0.004 | 1-3km SHEAR: 12.4 | | 1-3km SRH: 53.7\n",
      "============================================================== \n",
      " \n"
     ]
    }
   ],
   "source": [
    "# This file uses real-world meteorological data as a test for the ECAPE parcel code. \n",
    "# May be removed from repository later on if any circular dependency issues come up\n",
    "year  = '2007' \n",
    "month = '08'\n",
    "day   = '19'\n",
    "hour  = '12'\n",
    "latlon = [32.83, -97.29]\n",
    "method = 'rap' \n",
    "\n",
    "clean_data = spy.get_model_data(method, latlon, year, month, day, hour)\n",
    "\n",
    "p = clean_data['p']\n",
    "T = clean_data['T']\n",
    "Td = clean_data['Td']\n",
    "z = clean_data['z']\n",
    "u = clean_data['u']\n",
    "v = clean_data['v'] \n",
    "\n",
    "parcel_p, parcel_z, parcel_T, parcel_qv, parcel_qt = calc_ecape_parcel(p, z, T, Td, u, v, True, cape_type=\"mixed_layer\")\n"
   ]
  },
  {
   "cell_type": "code",
   "execution_count": null,
   "metadata": {},
   "outputs": [],
   "source": [
    "q = mpcalc.specific_humidity_from_dewpoint(p,Td)\n",
    "\n",
    "ecape = calc_ecape(z, p, T, q, u, v, cape_type=\"mixed_layer\", storm_motion=\"mean_wind\")"
   ]
  },
  {
   "cell_type": "code",
   "execution_count": null,
   "metadata": {},
   "outputs": [],
   "source": [
    "ecape"
   ]
  },
  {
   "cell_type": "code",
   "execution_count": null,
   "metadata": {},
   "outputs": [],
   "source": [
    "spy.plot.__full_sounding(clean_data, False, False, storm_motion=\"mean_wind\")#, special_parcels=[\"sb_ps_ecape\", \"ml_ps_ecape\"])"
   ]
  },
  {
   "cell_type": "code",
   "execution_count": null,
   "metadata": {},
   "outputs": [],
   "source": []
  }
 ],
 "metadata": {
  "kernelspec": {
   "display_name": "soundings",
   "language": "python",
   "name": "python3"
  },
  "language_info": {
   "codemirror_mode": {
    "name": "ipython",
    "version": 3
   },
   "file_extension": ".py",
   "mimetype": "text/x-python",
   "name": "python",
   "nbconvert_exporter": "python",
   "pygments_lexer": "ipython3",
   "version": "3.9.19"
  }
 },
 "nbformat": 4,
 "nbformat_minor": 2
}
